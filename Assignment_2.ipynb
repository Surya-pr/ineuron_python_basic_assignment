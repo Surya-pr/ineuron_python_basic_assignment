{
  "nbformat": 4,
  "nbformat_minor": 0,
  "metadata": {
    "colab": {
      "name": "Untitled12.ipynb",
      "provenance": [],
      "collapsed_sections": []
    },
    "kernelspec": {
      "name": "python3",
      "display_name": "Python 3"
    },
    "language_info": {
      "name": "python"
    }
  },
  "cells": [
    {
      "cell_type": "markdown",
      "metadata": {
        "id": "SUHcru1eiZhB"
      },
      "source": [
        "1.What are the two values of the Boolean data type? How do you write them?"
      ]
    },
    {
      "cell_type": "code",
      "metadata": {
        "id": "3p6k2h0DicHB"
      },
      "source": [
        "Two values of Boolean data type are True and False.\n",
        "We have to write them using capital T and capital F, remaining all smallercases.\n",
        "eg:\n",
        "True\n",
        "False"
      ],
      "execution_count": null,
      "outputs": []
    },
    {
      "cell_type": "markdown",
      "metadata": {
        "id": "CYPxWW25jWhb"
      },
      "source": [
        "2. What are the three different types of Boolean operators?"
      ]
    },
    {
      "cell_type": "code",
      "metadata": {
        "id": "TZW0SChzjdtK"
      },
      "source": [
        "Three different types of Boolean Opearators are AND,OR and NOT."
      ],
      "execution_count": null,
      "outputs": []
    },
    {
      "cell_type": "markdown",
      "metadata": {
        "id": "X4YVG4J6jyIn"
      },
      "source": [
        "3. Make a list of each Boolean operator&#39;s truth tables (i.e.every possible combination of Boolean\n",
        "values for the operator and what it evaluate)."
      ]
    },
    {
      "cell_type": "code",
      "metadata": {
        "colab": {
          "base_uri": "https://localhost:8080/"
        },
        "id": "9sHaiVb7-YNX",
        "outputId": "f55b4cbc-6082-4fb2-fe97-93aec952a9d1"
      },
      "source": [
        "                                         #AND Operator:\n",
        "b=[]\n",
        "a=[]\n",
        "a.append(True and True)\n",
        "a.append(True and False)\n",
        "a.append(False and False)\n",
        "a.append(False and True)\n",
        "b.append(a)\n",
        "a=[]\n",
        "                                        #OR Operator\n",
        "a.append(True or True)\n",
        "a.append(True or False)\n",
        "a.append(False or False)\n",
        "a.append(False or True)\n",
        "b.append(a)\n",
        "a=[]\n",
        "                                        #NOT Operator\n",
        "a.append(not True)\n",
        "a.append(not False)\n",
        "b.append(a)\n",
        "b"
      ],
      "execution_count": null,
      "outputs": [
        {
          "output_type": "execute_result",
          "data": {
            "text/plain": [
              "[[True, False, False, False], [True, True, False, True], [False, True]]"
            ]
          },
          "metadata": {
            "tags": []
          },
          "execution_count": 11
        }
      ]
    },
    {
      "cell_type": "markdown",
      "metadata": {
        "id": "I8cPeQSVAhG7"
      },
      "source": [
        "4. What are the values of the following expressions?\n",
        "(5 &gt; 4) and (3 == 5)\n",
        "not (5 &gt; 4)\n",
        "(5 &gt; 4) or (3 == 5)\n",
        "not ((5 &gt; 4) or (3 == 5))\n",
        "(True and True) and (True == False)\n",
        "(not False) or (not True)"
      ]
    },
    {
      "cell_type": "code",
      "metadata": {
        "colab": {
          "base_uri": "https://localhost:8080/"
        },
        "id": "fnM084YpAnsx",
        "outputId": "1794a85a-0f7c-40ce-d47f-5b21c0b13a93"
      },
      "source": [
        "print((5 > 4) and (3 == 5))\n",
        "print(not (5 > 4))\n",
        "print((5 > 4) or (3 == 5))\n",
        "print(not ((5 > 4) or (3 == 5)))\n",
        "print((True and True) and (True == False))\n",
        "print((not False) or (not True))"
      ],
      "execution_count": null,
      "outputs": [
        {
          "output_type": "stream",
          "text": [
            "False\n",
            "False\n",
            "True\n",
            "False\n",
            "False\n",
            "True\n"
          ],
          "name": "stdout"
        }
      ]
    },
    {
      "cell_type": "markdown",
      "metadata": {
        "id": "10qjATloBbdk"
      },
      "source": [
        "5. What are the six comparison operators?"
      ]
    },
    {
      "cell_type": "code",
      "metadata": {
        "id": "6lO2ecVMBdTI"
      },
      "source": [
        "# Comparison operators are:\n",
        "    1.equal to,(==) \n",
        "    2.not equal to,(!=)\n",
        "    3.greater than, (>)\n",
        "    4.greater than or equal to,(>=) \n",
        "    5.less than, (<)\n",
        "    6.less than or equal to (<=). "
      ],
      "execution_count": null,
      "outputs": []
    },
    {
      "cell_type": "markdown",
      "metadata": {
        "id": "nBFjFEhQCeeW"
      },
      "source": [
        "6. How do you tell the difference between the equal to and assignment operators?Describe a\n",
        "condition and when you would use one."
      ]
    },
    {
      "cell_type": "code",
      "metadata": {
        "colab": {
          "base_uri": "https://localhost:8080/"
        },
        "id": "TErHfp26Ch4m",
        "outputId": "4d9c35bd-85be-4ccf-d27b-03c599dd5c61"
      },
      "source": [
        "# assignment operator is used to assign values.\n",
        "# like a=10;  Here we are assigning variable a with integer 10.\n",
        "# wheras equal to operator used to check the given condition:\n",
        "a=10\n",
        "print(a==10) # here we are checking whether the value of a is 10 or not \n",
        "print(a==9)"
      ],
      "execution_count": null,
      "outputs": [
        {
          "output_type": "stream",
          "text": [
            "True\n",
            "False\n"
          ],
          "name": "stdout"
        }
      ]
    },
    {
      "cell_type": "markdown",
      "metadata": {
        "id": "OuXNZJZ8EKjt"
      },
      "source": [
        "7. Identify the three blocks in this code:\n",
        "spam = 0\n",
        "if spam == 10:\n",
        "print(&#39;eggs&#39;)\n",
        "if spam &gt; 5:\n",
        "print(&#39;bacon&#39;)\n",
        "else:\n",
        "print(&#39;ham&#39;)\n",
        "print(&#39;spam&#39;)\n",
        "print(&#39;spam&#39;)"
      ]
    },
    {
      "cell_type": "code",
      "metadata": {
        "colab": {
          "base_uri": "https://localhost:8080/"
        },
        "id": "ntPhvlswEduU",
        "outputId": "0928eafb-27db-4752-aa04-609fc85157c4"
      },
      "source": [
        "spam = 0\n",
        "if spam == 10:\n",
        "  print(\"eggs\")\n",
        "  if spam > 5:\n",
        "    print(\"bacon\")\n",
        "  else:\n",
        "    print(\"ham\")\n",
        "  print(\"spam\")\n",
        "print(\"spam\")"
      ],
      "execution_count": null,
      "outputs": [
        {
          "output_type": "stream",
          "text": [
            "spam\n"
          ],
          "name": "stdout"
        }
      ]
    },
    {
      "cell_type": "markdown",
      "metadata": {
        "id": "QwwHEUoMGAeb"
      },
      "source": [
        "8. Write code that prints Hello if 1 is stored in spam, prints Howdy if 2 is stored in spam, and prints\n",
        "Greetings! if anything else is stored in spam."
      ]
    },
    {
      "cell_type": "code",
      "metadata": {
        "colab": {
          "base_uri": "https://localhost:8080/"
        },
        "id": "cKNsr3zMGGLA",
        "outputId": "f1aef84d-e510-4392-a9d5-541b3482d540"
      },
      "source": [
        "spam=3\n",
        "if spam==1:\n",
        "  print(\"Hello\")\n",
        "elif spam==2:\n",
        "  print(\"Howdy\")\n",
        "else:\n",
        "  print(\"Greetings!\")    "
      ],
      "execution_count": null,
      "outputs": [
        {
          "output_type": "stream",
          "text": [
            "Greetings!\n"
          ],
          "name": "stdout"
        }
      ]
    },
    {
      "cell_type": "markdown",
      "metadata": {
        "id": "9_rZkVMwGjHx"
      },
      "source": [
        "9.If your programme is stuck in an endless loop, what keys you’ll press?"
      ]
    },
    {
      "cell_type": "code",
      "metadata": {
        "id": "mvKr2eWTGp5u"
      },
      "source": [
        "# Ctrl + C"
      ],
      "execution_count": null,
      "outputs": []
    },
    {
      "cell_type": "markdown",
      "metadata": {
        "id": "c8CXAM_4Ho28"
      },
      "source": [
        "10. How can you tell the difference between break and continue?"
      ]
    },
    {
      "cell_type": "code",
      "metadata": {
        "colab": {
          "base_uri": "https://localhost:8080/"
        },
        "id": "Hw-FIJunHzvV",
        "outputId": "2b139de8-cd44-40f2-8af0-cb9f02d951da"
      },
      "source": [
        "for i in range(1,10):\n",
        "  if i==5:\n",
        "    break\n",
        "  print(i,end=\" \")\n",
        "print(\" \") \n",
        "\n",
        "\n",
        "for j in range(1,10):\n",
        "  if j==5:\n",
        "    continue\n",
        "  print(j,end=\" \")\n",
        " # break statement used to terminate the remaining iteration of the loop\n",
        " # continue statement used to terminate only current iteration of the looop. "
      ],
      "execution_count": null,
      "outputs": [
        {
          "output_type": "stream",
          "text": [
            "1 2 3 4  \n",
            "1 2 3 4 6 7 8 9 "
          ],
          "name": "stdout"
        }
      ]
    },
    {
      "cell_type": "markdown",
      "metadata": {
        "id": "cdDt2aFSMOrX"
      },
      "source": [
        "11. In a for loop, what is the difference between range(10), range(0, 10), and range(0, 10, 1)?"
      ]
    },
    {
      "cell_type": "code",
      "metadata": {
        "colab": {
          "base_uri": "https://localhost:8080/"
        },
        "id": "eEswoYS6MScN",
        "outputId": "b0258862-3231-498a-d573-12d427297e71"
      },
      "source": [
        "for i in range(10):\n",
        "  print(i,end=\" \")\n",
        "print(\" \")\n",
        "for i in range(0,10):\n",
        "  print(i,end=\" \")\n",
        "print(\" \")\n",
        "for i in range(0,10,1):\n",
        "  print(i,end=\" \")  \n",
        "# By default range start from zero and step size is one, thats why we will get same result for every for loop. If we change starting point or step size we will get different result.  "
      ],
      "execution_count": null,
      "outputs": [
        {
          "output_type": "stream",
          "text": [
            "0 1 2 3 4 5 6 7 8 9  \n",
            "0 1 2 3 4 5 6 7 8 9  \n",
            "0 1 2 3 4 5 6 7 8 9 "
          ],
          "name": "stdout"
        }
      ]
    },
    {
      "cell_type": "markdown",
      "metadata": {
        "id": "Yg-dnYJJNbd0"
      },
      "source": [
        "12. Write a short program that prints the numbers 1 to 10 using a for loop. Then write an equivalent\n",
        "program that prints the numbers 1 to 10 using a while loop."
      ]
    },
    {
      "cell_type": "code",
      "metadata": {
        "colab": {
          "base_uri": "https://localhost:8080/"
        },
        "id": "SNZ6MhLyNevc",
        "outputId": "87c3061a-ede5-41b7-884d-99826b8876e1"
      },
      "source": [
        "for i in range(1,11):\n",
        "  print(i,end=\" \")\n",
        "print()\n",
        "i=1\n",
        "while(i<=10):\n",
        "  print(i,end=\" \")\n",
        "  i+=1  "
      ],
      "execution_count": null,
      "outputs": [
        {
          "output_type": "stream",
          "text": [
            "1 2 3 4 5 6 7 8 9 10 \n",
            "1 2 3 4 5 6 7 8 9 10 "
          ],
          "name": "stdout"
        }
      ]
    },
    {
      "cell_type": "markdown",
      "metadata": {
        "id": "qgDjtmsiHiml"
      },
      "source": [
        "13. If you had a function named bacon() inside a module named spam, how would you call it after\n",
        "importing spam?"
      ]
    },
    {
      "cell_type": "code",
      "metadata": {
        "id": "JdSVBI05HmTL"
      },
      "source": [
        "# We can call it like : spam.bacon()"
      ],
      "execution_count": null,
      "outputs": []
    }
  ]
}